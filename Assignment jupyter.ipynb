{
 "cells": [
  {
   "cell_type": "code",
   "execution_count": 37,
   "id": "1315a8cd-f562-4976-aade-cb73d850e7eb",
   "metadata": {},
   "outputs": [],
   "source": [
    "import seaborn as sns\n",
    "import pandas as pd\n",
    "import matplotlib.pyplot as plt \n"
   ]
  },
  {
   "cell_type": "code",
   "execution_count": 38,
   "id": "cba08437-dc35-4429-80fd-7fa11811d217",
   "metadata": {},
   "outputs": [
    {
     "name": "stdout",
     "output_type": "stream",
     "text": [
      "   id  20-6-2013  21-6-2013  22-6-2013  23-6-2013  24-6-2013  25-6-2013  \\\n",
      "0   1        NaN        NaN        NaN        NaN     3941.0    15733.0   \n",
      "1   2        NaN        NaN    10473.0      705.0     4287.0     5507.0   \n",
      "2   3        NaN    11428.0    12523.0     2553.0      190.0     2164.0   \n",
      "3   4        NaN        NaN        NaN        NaN        NaN        NaN   \n",
      "4   5        NaN        NaN        NaN        NaN        NaN        NaN   \n",
      "\n",
      "   26-6-2013  27-6-2013  28-6-2013  ...  4-5-2014  5-5-2014  6-5-2014  \\\n",
      "0     9929.0    12879.0    10541.0  ...       NaN       NaN       NaN   \n",
      "1     4024.0     3926.0    14595.0  ...       NaN       NaN       NaN   \n",
      "2     8185.0     9630.0     8983.0  ...    3914.0    4364.0       NaN   \n",
      "3        NaN        NaN        NaN  ...       NaN       NaN       NaN   \n",
      "4        NaN        NaN        NaN  ...       NaN       NaN       NaN   \n",
      "\n",
      "   7-5-2014  8-5-2014  9-5-2014  10-5-2014  11-5-2014  12-5-2014  13-5-2014  \n",
      "0       NaN       NaN       NaN        NaN        NaN        NaN        NaN  \n",
      "1       NaN       NaN       NaN        NaN        NaN        NaN        NaN  \n",
      "2       NaN       NaN    6227.0     4567.0     2567.0     1129.0        NaN  \n",
      "3       NaN       NaN       NaN        NaN        NaN        NaN        NaN  \n",
      "4       NaN       NaN       NaN        NaN        NaN        NaN        NaN  \n",
      "\n",
      "[5 rows x 329 columns]\n",
      "   id         city  gender    age  hh_size  education          education_1  \\\n",
      "0   1     Bordeaux    Male  25-34        4          4  Master or doctorate   \n",
      "1   2        Lille    Male  35-44        1          3             Bachelor   \n",
      "2   3  Montpellier    Male  25-34        2          2  Master or doctorate   \n",
      "3   4         Lyon    Male    <25        1          1             Bachelor   \n",
      "4   5  Montpellier  Female  25-34        3          4             Bachelor   \n",
      "\n",
      "   height  weight  \n",
      "0   178.0    98.0  \n",
      "1   180.0    77.0  \n",
      "2   180.0    83.0  \n",
      "3   178.0    80.0  \n",
      "4   167.0    61.0  \n"
     ]
    }
   ],
   "source": [
    "steps = pd.read_csv(\"steps.csv\", sep=';')\n",
    "surv = pd.read_csv(\"survey.csv\")\n",
    "print(steps.head())\n",
    "print(surv.head())\n",
    "\n"
   ]
  },
  {
   "cell_type": "code",
   "execution_count": 39,
   "id": "133c0d05-092e-485b-a387-aac7973c014a",
   "metadata": {},
   "outputs": [],
   "source": [
    "df = pd.merge(steps, surv, on='id')\n",
    "def above_200(x):\n",
    "    if(x > 200 or x < 40): \n",
    "        return float('NaN')\n",
    "    else: \n",
    "        return x\n",
    "df['weight'] = df['weight'].apply(above_200)\n"
   ]
  },
  {
   "cell_type": "code",
   "execution_count": 40,
   "id": "4ad008c6-e43b-420c-9518-90185730d994",
   "metadata": {},
   "outputs": [
    {
     "name": "stderr",
     "output_type": "stream",
     "text": [
      "C:\\Users\\robbi\\anaconda3\\lib\\site-packages\\seaborn\\distributions.py:2619: FutureWarning: `distplot` is a deprecated function and will be removed in a future version. Please adapt your code to use either `displot` (a figure-level function with similar flexibility) or `histplot` (an axes-level function for histograms).\n",
      "  warnings.warn(msg, FutureWarning)\n"
     ]
    },
    {
     "data": {
      "text/plain": [
       "<AxesSubplot:xlabel='weight'>"
      ]
     },
     "execution_count": 40,
     "metadata": {},
     "output_type": "execute_result"
    },
    {
     "data": {
      "image/png": "[encoded data removed]",
      "text/plain": [
       "<Figure size 432x288 with 1 Axes>"
      ]
     },
     "metadata": {
      "needs_background": "light"
     },
     "output_type": "display_data"
    }
   ],
   "source": [
    "sns.distplot(df['weight'].dropna(), kde=False)\n"
   ]
  },
  {
   "cell_type": "code",
   "execution_count": 41,
   "id": "8fcc8830",
   "metadata": {},
   "outputs": [
    {
     "data": {
      "text/plain": [
       "(5793.0, 7036.626702702702)"
      ]
     },
     "execution_count": 41,
     "metadata": {},
     "output_type": "execute_result"
    }
   ],
   "source": [
    "df['mean_steps'] = df.loc[:, '20-6-2013' : '13-5-2014'].mean(axis = 1).round(decimals = 1)\n",
    "df['med_steps'] = df.loc[:, '20-6-2013' : '13-5-2014'].median(axis = 1).round(decimals = 1)\n",
    "med_steps = df['med_steps'].median()\n",
    "mean_steps = df['mean_steps'].mean()\n",
    "med_steps, mean_steps"
   ]
  },
  {
   "cell_type": "code",
   "execution_count": 42,
   "id": "6b84e1b6",
   "metadata": {},
   "outputs": [
    {
     "data": {
      "text/html": [
       "<div>\n",
       "<style scoped>\n",
       "    .dataframe tbody tr th:only-of-type {\n",
       "        vertical-align: middle;\n",
       "    }\n",
       "\n",
       "    .dataframe tbody tr th {\n",
       "        vertical-align: top;\n",
       "    }\n",
       "\n",
       "    .dataframe thead th {\n",
       "        text-align: right;\n",
       "    }\n",
       "</style>\n",
       "<table border=\"1\" class=\"dataframe\">\n",
       "  <thead>\n",
       "    <tr style=\"text-align: right;\">\n",
       "      <th></th>\n",
       "      <th>id</th>\n",
       "      <th>20-6-2013</th>\n",
       "      <th>21-6-2013</th>\n",
       "      <th>22-6-2013</th>\n",
       "      <th>23-6-2013</th>\n",
       "      <th>24-6-2013</th>\n",
       "      <th>25-6-2013</th>\n",
       "      <th>26-6-2013</th>\n",
       "      <th>27-6-2013</th>\n",
       "      <th>28-6-2013</th>\n",
       "      <th>...</th>\n",
       "      <th>city</th>\n",
       "      <th>gender</th>\n",
       "      <th>age</th>\n",
       "      <th>hh_size</th>\n",
       "      <th>education</th>\n",
       "      <th>education_1</th>\n",
       "      <th>height</th>\n",
       "      <th>weight</th>\n",
       "      <th>mean_steps</th>\n",
       "      <th>med_steps</th>\n",
       "    </tr>\n",
       "  </thead>\n",
       "  <tbody>\n",
       "    <tr>\n",
       "      <th>0</th>\n",
       "      <td>1</td>\n",
       "      <td>NaN</td>\n",
       "      <td>NaN</td>\n",
       "      <td>NaN</td>\n",
       "      <td>NaN</td>\n",
       "      <td>3941.0</td>\n",
       "      <td>15733.0</td>\n",
       "      <td>9929.0</td>\n",
       "      <td>12879.0</td>\n",
       "      <td>10541.0</td>\n",
       "      <td>...</td>\n",
       "      <td>Bordeaux</td>\n",
       "      <td>Male</td>\n",
       "      <td>25-34</td>\n",
       "      <td>4</td>\n",
       "      <td>4</td>\n",
       "      <td>Master or doctorate</td>\n",
       "      <td>178.0</td>\n",
       "      <td>98.0</td>\n",
       "      <td>10205.5</td>\n",
       "      <td>9860.0</td>\n",
       "    </tr>\n",
       "    <tr>\n",
       "      <th>1</th>\n",
       "      <td>2</td>\n",
       "      <td>NaN</td>\n",
       "      <td>NaN</td>\n",
       "      <td>10473.0</td>\n",
       "      <td>705.0</td>\n",
       "      <td>4287.0</td>\n",
       "      <td>5507.0</td>\n",
       "      <td>4024.0</td>\n",
       "      <td>3926.0</td>\n",
       "      <td>14595.0</td>\n",
       "      <td>...</td>\n",
       "      <td>Lille</td>\n",
       "      <td>Male</td>\n",
       "      <td>35-44</td>\n",
       "      <td>1</td>\n",
       "      <td>3</td>\n",
       "      <td>Bachelor</td>\n",
       "      <td>180.0</td>\n",
       "      <td>77.0</td>\n",
       "      <td>5687.4</td>\n",
       "      <td>5374.0</td>\n",
       "    </tr>\n",
       "    <tr>\n",
       "      <th>2</th>\n",
       "      <td>3</td>\n",
       "      <td>NaN</td>\n",
       "      <td>11428.0</td>\n",
       "      <td>12523.0</td>\n",
       "      <td>2553.0</td>\n",
       "      <td>190.0</td>\n",
       "      <td>2164.0</td>\n",
       "      <td>8185.0</td>\n",
       "      <td>9630.0</td>\n",
       "      <td>8983.0</td>\n",
       "      <td>...</td>\n",
       "      <td>Montpellier</td>\n",
       "      <td>Male</td>\n",
       "      <td>25-34</td>\n",
       "      <td>2</td>\n",
       "      <td>2</td>\n",
       "      <td>Master or doctorate</td>\n",
       "      <td>180.0</td>\n",
       "      <td>83.0</td>\n",
       "      <td>8301.7</td>\n",
       "      <td>8220.0</td>\n",
       "    </tr>\n",
       "    <tr>\n",
       "      <th>3</th>\n",
       "      <td>4</td>\n",
       "      <td>NaN</td>\n",
       "      <td>NaN</td>\n",
       "      <td>NaN</td>\n",
       "      <td>NaN</td>\n",
       "      <td>NaN</td>\n",
       "      <td>NaN</td>\n",
       "      <td>NaN</td>\n",
       "      <td>NaN</td>\n",
       "      <td>NaN</td>\n",
       "      <td>...</td>\n",
       "      <td>Lyon</td>\n",
       "      <td>Male</td>\n",
       "      <td>&lt;25</td>\n",
       "      <td>1</td>\n",
       "      <td>1</td>\n",
       "      <td>Bachelor</td>\n",
       "      <td>178.0</td>\n",
       "      <td>80.0</td>\n",
       "      <td>3633.2</td>\n",
       "      <td>3000.0</td>\n",
       "    </tr>\n",
       "    <tr>\n",
       "      <th>4</th>\n",
       "      <td>5</td>\n",
       "      <td>NaN</td>\n",
       "      <td>NaN</td>\n",
       "      <td>NaN</td>\n",
       "      <td>NaN</td>\n",
       "      <td>NaN</td>\n",
       "      <td>NaN</td>\n",
       "      <td>NaN</td>\n",
       "      <td>NaN</td>\n",
       "      <td>NaN</td>\n",
       "      <td>...</td>\n",
       "      <td>Montpellier</td>\n",
       "      <td>Female</td>\n",
       "      <td>25-34</td>\n",
       "      <td>3</td>\n",
       "      <td>4</td>\n",
       "      <td>Bachelor</td>\n",
       "      <td>167.0</td>\n",
       "      <td>61.0</td>\n",
       "      <td>5312.1</td>\n",
       "      <td>4986.5</td>\n",
       "    </tr>\n",
       "    <tr>\n",
       "      <th>...</th>\n",
       "      <td>...</td>\n",
       "      <td>...</td>\n",
       "      <td>...</td>\n",
       "      <td>...</td>\n",
       "      <td>...</td>\n",
       "      <td>...</td>\n",
       "      <td>...</td>\n",
       "      <td>...</td>\n",
       "      <td>...</td>\n",
       "      <td>...</td>\n",
       "      <td>...</td>\n",
       "      <td>...</td>\n",
       "      <td>...</td>\n",
       "      <td>...</td>\n",
       "      <td>...</td>\n",
       "      <td>...</td>\n",
       "      <td>...</td>\n",
       "      <td>...</td>\n",
       "      <td>...</td>\n",
       "      <td>...</td>\n",
       "      <td>...</td>\n",
       "    </tr>\n",
       "    <tr>\n",
       "      <th>924</th>\n",
       "      <td>925</td>\n",
       "      <td>NaN</td>\n",
       "      <td>4571.0</td>\n",
       "      <td>10471.0</td>\n",
       "      <td>5899.0</td>\n",
       "      <td>15295.0</td>\n",
       "      <td>9178.0</td>\n",
       "      <td>9348.0</td>\n",
       "      <td>12229.0</td>\n",
       "      <td>13767.0</td>\n",
       "      <td>...</td>\n",
       "      <td>Lille</td>\n",
       "      <td>Female</td>\n",
       "      <td>45-54</td>\n",
       "      <td>3</td>\n",
       "      <td>4</td>\n",
       "      <td>Master or doctorate</td>\n",
       "      <td>165.0</td>\n",
       "      <td>59.0</td>\n",
       "      <td>6282.1</td>\n",
       "      <td>6104.0</td>\n",
       "    </tr>\n",
       "    <tr>\n",
       "      <th>925</th>\n",
       "      <td>926</td>\n",
       "      <td>NaN</td>\n",
       "      <td>NaN</td>\n",
       "      <td>NaN</td>\n",
       "      <td>NaN</td>\n",
       "      <td>NaN</td>\n",
       "      <td>NaN</td>\n",
       "      <td>NaN</td>\n",
       "      <td>NaN</td>\n",
       "      <td>NaN</td>\n",
       "      <td>...</td>\n",
       "      <td>Lille</td>\n",
       "      <td>Male</td>\n",
       "      <td>&lt;25</td>\n",
       "      <td>3</td>\n",
       "      <td>5</td>\n",
       "      <td>Bachelor</td>\n",
       "      <td>192.0</td>\n",
       "      <td>90.0</td>\n",
       "      <td>4799.9</td>\n",
       "      <td>4240.0</td>\n",
       "    </tr>\n",
       "    <tr>\n",
       "      <th>926</th>\n",
       "      <td>927</td>\n",
       "      <td>NaN</td>\n",
       "      <td>NaN</td>\n",
       "      <td>NaN</td>\n",
       "      <td>1623.0</td>\n",
       "      <td>NaN</td>\n",
       "      <td>NaN</td>\n",
       "      <td>NaN</td>\n",
       "      <td>NaN</td>\n",
       "      <td>NaN</td>\n",
       "      <td>...</td>\n",
       "      <td>Montpellier</td>\n",
       "      <td>Male</td>\n",
       "      <td>35-44</td>\n",
       "      <td>2</td>\n",
       "      <td>2</td>\n",
       "      <td>Bachelor</td>\n",
       "      <td>181.0</td>\n",
       "      <td>71.0</td>\n",
       "      <td>10030.3</td>\n",
       "      <td>8849.0</td>\n",
       "    </tr>\n",
       "    <tr>\n",
       "      <th>927</th>\n",
       "      <td>928</td>\n",
       "      <td>NaN</td>\n",
       "      <td>NaN</td>\n",
       "      <td>14411.0</td>\n",
       "      <td>14364.0</td>\n",
       "      <td>26629.0</td>\n",
       "      <td>13092.0</td>\n",
       "      <td>9266.0</td>\n",
       "      <td>14949.0</td>\n",
       "      <td>43238.0</td>\n",
       "      <td>...</td>\n",
       "      <td>Lille</td>\n",
       "      <td>Female</td>\n",
       "      <td>55-64</td>\n",
       "      <td>1</td>\n",
       "      <td>1</td>\n",
       "      <td>High school</td>\n",
       "      <td>172.0</td>\n",
       "      <td>65.0</td>\n",
       "      <td>15679.7</td>\n",
       "      <td>14084.0</td>\n",
       "    </tr>\n",
       "    <tr>\n",
       "      <th>928</th>\n",
       "      <td>929</td>\n",
       "      <td>NaN</td>\n",
       "      <td>3324.0</td>\n",
       "      <td>4507.0</td>\n",
       "      <td>14364.0</td>\n",
       "      <td>4098.0</td>\n",
       "      <td>7299.0</td>\n",
       "      <td>11534.0</td>\n",
       "      <td>10125.0</td>\n",
       "      <td>7700.0</td>\n",
       "      <td>...</td>\n",
       "      <td>Lyon</td>\n",
       "      <td>Male</td>\n",
       "      <td>25-34</td>\n",
       "      <td>2</td>\n",
       "      <td>2</td>\n",
       "      <td>High school</td>\n",
       "      <td>180.0</td>\n",
       "      <td>76.0</td>\n",
       "      <td>7584.5</td>\n",
       "      <td>7726.0</td>\n",
       "    </tr>\n",
       "  </tbody>\n",
       "</table>\n",
       "<p>929 rows × 339 columns</p>\n",
       "</div>"
      ],
      "text/plain": [
       "      id  20-6-2013  21-6-2013  22-6-2013  23-6-2013  24-6-2013  25-6-2013  \\\n",
       "0      1        NaN        NaN        NaN        NaN     3941.0    15733.0   \n",
       "1      2        NaN        NaN    10473.0      705.0     4287.0     5507.0   \n",
       "2      3        NaN    11428.0    12523.0     2553.0      190.0     2164.0   \n",
       "3      4        NaN        NaN        NaN        NaN        NaN        NaN   \n",
       "4      5        NaN        NaN        NaN        NaN        NaN        NaN   \n",
       "..   ...        ...        ...        ...        ...        ...        ...   \n",
       "924  925        NaN     4571.0    10471.0     5899.0    15295.0     9178.0   \n",
       "925  926        NaN        NaN        NaN        NaN        NaN        NaN   \n",
       "926  927        NaN        NaN        NaN     1623.0        NaN        NaN   \n",
       "927  928        NaN        NaN    14411.0    14364.0    26629.0    13092.0   \n",
       "928  929        NaN     3324.0     4507.0    14364.0     4098.0     7299.0   \n",
       "\n",
       "     26-6-2013  27-6-2013  28-6-2013  ...         city  gender    age  \\\n",
       "0       9929.0    12879.0    10541.0  ...     Bordeaux    Male  25-34   \n",
       "1       4024.0     3926.0    14595.0  ...        Lille    Male  35-44   \n",
       "2       8185.0     9630.0     8983.0  ...  Montpellier    Male  25-34   \n",
       "3          NaN        NaN        NaN  ...         Lyon    Male    <25   \n",
       "4          NaN        NaN        NaN  ...  Montpellier  Female  25-34   \n",
       "..         ...        ...        ...  ...          ...     ...    ...   \n",
       "924     9348.0    12229.0    13767.0  ...        Lille  Female  45-54   \n",
       "925        NaN        NaN        NaN  ...        Lille    Male    <25   \n",
       "926        NaN        NaN        NaN  ...  Montpellier    Male  35-44   \n",
       "927     9266.0    14949.0    43238.0  ...        Lille  Female  55-64   \n",
       "928    11534.0    10125.0     7700.0  ...         Lyon    Male  25-34   \n",
       "\n",
       "     hh_size  education          education_1  height  weight  mean_steps  \\\n",
       "0          4          4  Master or doctorate   178.0    98.0     10205.5   \n",
       "1          1          3             Bachelor   180.0    77.0      5687.4   \n",
       "2          2          2  Master or doctorate   180.0    83.0      8301.7   \n",
       "3          1          1             Bachelor   178.0    80.0      3633.2   \n",
       "4          3          4             Bachelor   167.0    61.0      5312.1   \n",
       "..       ...        ...                  ...     ...     ...         ...   \n",
       "924        3          4  Master or doctorate   165.0    59.0      6282.1   \n",
       "925        3          5             Bachelor   192.0    90.0      4799.9   \n",
       "926        2          2             Bachelor   181.0    71.0     10030.3   \n",
       "927        1          1          High school   172.0    65.0     15679.7   \n",
       "928        2          2          High school   180.0    76.0      7584.5   \n",
       "\n",
       "     med_steps  \n",
       "0       9860.0  \n",
       "1       5374.0  \n",
       "2       8220.0  \n",
       "3       3000.0  \n",
       "4       4986.5  \n",
       "..         ...  \n",
       "924     6104.0  \n",
       "925     4240.0  \n",
       "926     8849.0  \n",
       "927    14084.0  \n",
       "928     7726.0  \n",
       "\n",
       "[929 rows x 339 columns]"
      ]
     },
     "execution_count": 42,
     "metadata": {},
     "output_type": "execute_result"
    }
   ],
   "source": [
    "def above_25000(x):\n",
    "    if(x > 25000):\n",
    "        return float('NaN')\n",
    "    else:\n",
    "        return x\n",
    "df['mean_steps'] = df['mean_steps'].apply(above_25000)\n",
    "df"
   ]
  },
  {
   "cell_type": "code",
   "execution_count": 43,
   "id": "02c8a10d",
   "metadata": {},
   "outputs": [
    {
     "data": {
      "text/plain": [
       "<matplotlib.lines.Line2D at 0x256b1ddf580>"
      ]
     },
     "execution_count": 43,
     "metadata": {},
     "output_type": "execute_result"
    },
    {
     "data": {
      "image/png": "[encoded data removed]",
      "text/plain": [
       "<Figure size 432x288 with 1 Axes>"
      ]
     },
     "metadata": {
      "needs_background": "light"
     },
     "output_type": "display_data"
    }
   ],
   "source": [
    "sns.histplot(df['weight'], kde= True)\n",
    "plt.axvline(df['weight'].median(), 0, 100, color='green', label='median')\n",
    "plt.axvline(df['weight'].mean(), 0, 100, color='red', label='mean')"
   ]
  },
  {
   "cell_type": "markdown",
   "id": "a5f4688b",
   "metadata": {},
   "source": [
    "The distribution is: \n",
    "\n",
    "    -Normal, with a min and max cut-off\n",
    "    -Low\n",
    "    -1 peak so its unimodal\n",
    "    -Right skewed\n",
    "    -A few outliers"
   ]
  },
  {
   "cell_type": "code",
   "execution_count": 51,
   "id": "47f230b6",
   "metadata": {},
   "outputs": [
    {
     "data": {
      "text/plain": [
       "count      921.000000\n",
       "mean      6703.995548\n",
       "std       2948.662611\n",
       "min          4.000000\n",
       "25%       4634.400000\n",
       "50%       6240.100000\n",
       "75%       8327.500000\n",
       "max      22842.700000\n",
       "Name: mean_steps, dtype: float64"
      ]
     },
     "execution_count": 51,
     "metadata": {},
     "output_type": "execute_result"
    }
   ],
   "source": [
    "df['mean_steps'].describe()"
   ]
  },
  {
   "cell_type": "code",
   "execution_count": 58,
   "id": "a448843c",
   "metadata": {},
   "outputs": [
    {
     "data": {
      "image/png": "[encoded data removed]",
      "text/plain": [
       "<Figure size 432x288 with 1 Axes>"
      ]
     },
     "metadata": {
      "needs_background": "light"
     },
     "output_type": "display_data"
    }
   ],
   "source": [
    "sns.histplot(x=\"gender\", y='mean_steps', data=df)\n",
    "plt.show()\n"
   ]
  },
  {
   "cell_type": "code",
   "execution_count": 63,
   "id": "96280ca7",
   "metadata": {},
   "outputs": [
    {
     "data": {
      "text/plain": [
       "<AxesSubplot:xlabel='gender', ylabel='mean_steps'>"
      ]
     },
     "execution_count": 63,
     "metadata": {},
     "output_type": "execute_result"
    },
    {
     "data": {
      "image/png": "[encoded data removed]",
      "text/plain": [
       "<Figure size 432x288 with 1 Axes>"
      ]
     },
     "metadata": {
      "needs_background": "light"
     },
     "output_type": "display_data"
    }
   ],
   "source": [
    "sns.boxplot(x=df['gender'], y=df['mean_steps'])"
   ]
  },
  {
   "cell_type": "code",
   "execution_count": 69,
   "id": "f52a85d6",
   "metadata": {},
   "outputs": [
    {
     "data": {
      "text/plain": [
       "<AxesSubplot:xlabel='city', ylabel='mean_steps'>"
      ]
     },
     "execution_count": 69,
     "metadata": {},
     "output_type": "execute_result"
    },
    {
     "data": {
      "image/png": "[encoded data removed]",
      "text/plain": [
       "<Figure size 432x288 with 1 Axes>"
      ]
     },
     "metadata": {
      "needs_background": "light"
     },
     "output_type": "display_data"
    }
   ],
   "source": [
    "sns.barplot(x=df['city'], y=df['mean_steps'])"
   ]
  },
  {
   "cell_type": "code",
   "execution_count": null,
   "id": "e9a9e37b",
   "metadata": {},
   "outputs": [],
   "source": []
  },
  {
   "cell_type": "code",
   "execution_count": 68,
   "id": "b4195a2b",
   "metadata": {},
   "outputs": [
    {
     "data": {
      "text/plain": [
       "<AxesSubplot:xlabel='city', ylabel='weight'>"
      ]
     },
     "execution_count": 68,
     "metadata": {},
     "output_type": "execute_result"
    },
    {
     "data": {
      "image/png": "[encoded data removed]",
      "text/plain": [
       "<Figure size 432x288 with 1 Axes>"
      ]
     },
     "metadata": {
      "needs_background": "light"
     },
     "output_type": "display_data"
    }
   ],
   "source": [
    "sns.barplot(x=df['city'], y=df['weight'])"
   ]
  },
  {
   "cell_type": "markdown",
   "id": "470f1db6",
   "metadata": {},
   "source": [
    "Observations:\n",
    "- People in Lille have the highest mean steps taken\n",
    "- On average, females walk more steps than men\n",
    "- The distribution of mean steps for females is wider than for males\n",
    "- The higher the average weight, the lower the mean steps"
   ]
  }
 ],
 "metadata": {
  "kernelspec": {
   "display_name": "Python 3 (ipykernel)",
   "language": "python",
   "name": "python3"
  },
  "language_info": {
   "codemirror_mode": {
    "name": "ipython",
    "version": 3
   },
   "file_extension": ".py",
   "mimetype": "text/x-python",
   "name": "python",
   "nbconvert_exporter": "python",
   "pygments_lexer": "ipython3",
   "version": "3.9.7"
  }
 },
 "nbformat": 4,
 "nbformat_minor": 5
}
